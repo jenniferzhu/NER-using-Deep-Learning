{
 "cells": [
  {
   "cell_type": "code",
   "execution_count": 1,
   "metadata": {},
   "outputs": [
    {
     "name": "stderr",
     "output_type": "stream",
     "text": [
      "Using TensorFlow backend.\n"
     ]
    }
   ],
   "source": [
    "from process_data import DataHandler"
   ]
  },
  {
   "cell_type": "code",
   "execution_count": 2,
   "metadata": {},
   "outputs": [],
   "source": [
    "s = DataHandler(\"../data/training_hindi_NER.utf8\")"
   ]
  },
  {
   "cell_type": "code",
   "execution_count": 3,
   "metadata": {},
   "outputs": [
    {
     "data": {
      "text/plain": [
       "(2023, 191, 50)"
      ]
     },
     "execution_count": 3,
     "metadata": {},
     "output_type": "execute_result"
    }
   ],
   "source": [
    "s.get_data()[0].shape"
   ]
  },
  {
   "cell_type": "code",
   "execution_count": 4,
   "metadata": {},
   "outputs": [],
   "source": [
    "from NER_model import NER"
   ]
  },
  {
   "cell_type": "code",
   "execution_count": 5,
   "metadata": {
    "collapsed": true
   },
   "outputs": [],
   "source": [
    "m = NER(s)"
   ]
  },
  {
   "cell_type": "code",
   "execution_count": 6,
   "metadata": {},
   "outputs": [
    {
     "name": "stdout",
     "output_type": "stream",
     "text": [
      "____________________________________________________________________________________________________\n",
      "Layer (type)                     Output Shape          Param #     Connected to                     \n",
      "====================================================================================================\n",
      "bidirectional_1 (Bidirectional)  (None, 191, 300)      241200      bidirectional_input_1[0][0]      \n",
      "____________________________________________________________________________________________________\n",
      "timedistributed_1 (TimeDistribut (None, 191, 12)       3612        bidirectional_1[0][0]            \n",
      "____________________________________________________________________________________________________\n",
      "dropout_1 (Dropout)              (None, 191, 12)       0           timedistributed_1[0][0]          \n",
      "====================================================================================================\n",
      "Total params: 244,812\n",
      "Trainable params: 244,812\n",
      "Non-trainable params: 0\n",
      "____________________________________________________________________________________________________\n",
      "None\n"
     ]
    }
   ],
   "source": [
    "m.make_and_compile()"
   ]
  },
  {
   "cell_type": "code",
   "execution_count": 7,
   "metadata": {},
   "outputs": [
    {
     "name": "stdout",
     "output_type": "stream",
     "text": [
      "Epoch 1/10\n",
      "1613/1613 [==============================] - 29s - loss: 3.6243 - acc: 0.7633    \n",
      "Epoch 2/10\n",
      "1613/1613 [==============================] - 20s - loss: 3.2839 - acc: 0.7908    \n",
      "Epoch 3/10\n",
      "1613/1613 [==============================] - 19s - loss: 3.2750 - acc: 0.7908    \n",
      "Epoch 4/10\n",
      "1613/1613 [==============================] - 19s - loss: 3.2753 - acc: 0.7906    \n",
      "Epoch 5/10\n",
      "1613/1613 [==============================] - 18s - loss: 3.2466 - acc: 0.7922    \n",
      "Epoch 6/10\n",
      "1613/1613 [==============================] - 18s - loss: 3.2592 - acc: 0.7913    \n",
      "Epoch 7/10\n",
      "1613/1613 [==============================] - 18s - loss: 3.2838 - acc: 0.7898    \n",
      "Epoch 8/10\n",
      "1613/1613 [==============================] - 19s - loss: 3.2770 - acc: 0.7901    \n",
      "Epoch 9/10\n",
      "1613/1613 [==============================] - 18s - loss: 3.2569 - acc: 0.7917    \n",
      "Epoch 10/10\n",
      "1613/1613 [==============================] - 18s - loss: 3.2486 - acc: 0.7922    \n"
     ]
    }
   ],
   "source": [
    "# m.train()\n",
    "m.train(epochs=10)"
   ]
  },
  {
   "cell_type": "code",
   "execution_count": 8,
   "metadata": {},
   "outputs": [
    {
     "name": "stdout",
     "output_type": "stream",
     "text": [
      "             precision    recall  f1-score   support\n",
      "\n",
      "        NEA       0.00      0.00      0.00         7\n",
      "        NED       0.00      0.00      0.00        48\n",
      "        NEL       0.56      0.12      0.20       162\n",
      "        NEM       0.00      0.00      0.00        17\n",
      "        NEN       0.91      0.40      0.55       246\n",
      "        NEO       0.00      0.00      0.00        31\n",
      "        NEP       0.65      0.17      0.28       189\n",
      "       NETE       0.00      0.00      0.00       160\n",
      "       NETI       0.00      0.00      0.00        46\n",
      "       NETO       0.00      0.00      0.00        41\n",
      "          O       0.90      1.00      0.95      7105\n",
      "\n",
      "avg / total       0.85      0.90      0.86      8052\n",
      "\n"
     ]
    },
    {
     "name": "stderr",
     "output_type": "stream",
     "text": [
      "/home/divesh_pandey/anaconda2/envs/keras_tensorflow/lib/python2.7/site-packages/sklearn/metrics/classification.py:1113: UndefinedMetricWarning: Precision and F-score are ill-defined and being set to 0.0 in labels with no predicted samples.\n",
      "  'precision', 'predicted', average, warn_for)\n"
     ]
    },
    {
     "data": {
      "text/html": [
       "<div>\n",
       "<table border=\"1\" class=\"dataframe\">\n",
       "  <thead>\n",
       "    <tr style=\"text-align: right;\">\n",
       "      <th></th>\n",
       "      <th>NEA</th>\n",
       "      <th>NED</th>\n",
       "      <th>NEL</th>\n",
       "      <th>NEM</th>\n",
       "      <th>NEN</th>\n",
       "      <th>NEO</th>\n",
       "      <th>NEP</th>\n",
       "      <th>NETE</th>\n",
       "      <th>NETI</th>\n",
       "      <th>NETO</th>\n",
       "      <th>O</th>\n",
       "    </tr>\n",
       "  </thead>\n",
       "  <tbody>\n",
       "    <tr>\n",
       "      <th>NEA</th>\n",
       "      <td>0</td>\n",
       "      <td>0</td>\n",
       "      <td>0</td>\n",
       "      <td>0</td>\n",
       "      <td>0</td>\n",
       "      <td>0</td>\n",
       "      <td>0</td>\n",
       "      <td>0</td>\n",
       "      <td>0</td>\n",
       "      <td>0</td>\n",
       "      <td>7</td>\n",
       "    </tr>\n",
       "    <tr>\n",
       "      <th>NED</th>\n",
       "      <td>0</td>\n",
       "      <td>0</td>\n",
       "      <td>0</td>\n",
       "      <td>0</td>\n",
       "      <td>0</td>\n",
       "      <td>0</td>\n",
       "      <td>1</td>\n",
       "      <td>0</td>\n",
       "      <td>0</td>\n",
       "      <td>0</td>\n",
       "      <td>47</td>\n",
       "    </tr>\n",
       "    <tr>\n",
       "      <th>NEL</th>\n",
       "      <td>0</td>\n",
       "      <td>0</td>\n",
       "      <td>20</td>\n",
       "      <td>0</td>\n",
       "      <td>0</td>\n",
       "      <td>0</td>\n",
       "      <td>0</td>\n",
       "      <td>0</td>\n",
       "      <td>0</td>\n",
       "      <td>0</td>\n",
       "      <td>142</td>\n",
       "    </tr>\n",
       "    <tr>\n",
       "      <th>NEM</th>\n",
       "      <td>0</td>\n",
       "      <td>0</td>\n",
       "      <td>0</td>\n",
       "      <td>0</td>\n",
       "      <td>1</td>\n",
       "      <td>0</td>\n",
       "      <td>0</td>\n",
       "      <td>0</td>\n",
       "      <td>0</td>\n",
       "      <td>0</td>\n",
       "      <td>16</td>\n",
       "    </tr>\n",
       "    <tr>\n",
       "      <th>NEN</th>\n",
       "      <td>0</td>\n",
       "      <td>0</td>\n",
       "      <td>1</td>\n",
       "      <td>0</td>\n",
       "      <td>98</td>\n",
       "      <td>0</td>\n",
       "      <td>0</td>\n",
       "      <td>0</td>\n",
       "      <td>0</td>\n",
       "      <td>0</td>\n",
       "      <td>147</td>\n",
       "    </tr>\n",
       "    <tr>\n",
       "      <th>NEO</th>\n",
       "      <td>0</td>\n",
       "      <td>0</td>\n",
       "      <td>0</td>\n",
       "      <td>0</td>\n",
       "      <td>0</td>\n",
       "      <td>0</td>\n",
       "      <td>0</td>\n",
       "      <td>0</td>\n",
       "      <td>0</td>\n",
       "      <td>0</td>\n",
       "      <td>31</td>\n",
       "    </tr>\n",
       "    <tr>\n",
       "      <th>NEP</th>\n",
       "      <td>0</td>\n",
       "      <td>0</td>\n",
       "      <td>0</td>\n",
       "      <td>0</td>\n",
       "      <td>0</td>\n",
       "      <td>0</td>\n",
       "      <td>33</td>\n",
       "      <td>0</td>\n",
       "      <td>0</td>\n",
       "      <td>0</td>\n",
       "      <td>156</td>\n",
       "    </tr>\n",
       "    <tr>\n",
       "      <th>NETE</th>\n",
       "      <td>0</td>\n",
       "      <td>0</td>\n",
       "      <td>0</td>\n",
       "      <td>0</td>\n",
       "      <td>0</td>\n",
       "      <td>0</td>\n",
       "      <td>3</td>\n",
       "      <td>0</td>\n",
       "      <td>0</td>\n",
       "      <td>0</td>\n",
       "      <td>157</td>\n",
       "    </tr>\n",
       "    <tr>\n",
       "      <th>NETI</th>\n",
       "      <td>0</td>\n",
       "      <td>0</td>\n",
       "      <td>1</td>\n",
       "      <td>0</td>\n",
       "      <td>4</td>\n",
       "      <td>0</td>\n",
       "      <td>0</td>\n",
       "      <td>0</td>\n",
       "      <td>0</td>\n",
       "      <td>0</td>\n",
       "      <td>41</td>\n",
       "    </tr>\n",
       "    <tr>\n",
       "      <th>NETO</th>\n",
       "      <td>0</td>\n",
       "      <td>0</td>\n",
       "      <td>0</td>\n",
       "      <td>0</td>\n",
       "      <td>1</td>\n",
       "      <td>0</td>\n",
       "      <td>3</td>\n",
       "      <td>0</td>\n",
       "      <td>0</td>\n",
       "      <td>0</td>\n",
       "      <td>37</td>\n",
       "    </tr>\n",
       "    <tr>\n",
       "      <th>O</th>\n",
       "      <td>0</td>\n",
       "      <td>0</td>\n",
       "      <td>14</td>\n",
       "      <td>0</td>\n",
       "      <td>4</td>\n",
       "      <td>0</td>\n",
       "      <td>11</td>\n",
       "      <td>1</td>\n",
       "      <td>0</td>\n",
       "      <td>0</td>\n",
       "      <td>7075</td>\n",
       "    </tr>\n",
       "  </tbody>\n",
       "</table>\n",
       "</div>"
      ],
      "text/plain": [
       "      NEA  NED  NEL  NEM  NEN  NEO  NEP  NETE  NETI  NETO     O\n",
       "NEA     0    0    0    0    0    0    0     0     0     0     7\n",
       "NED     0    0    0    0    0    0    1     0     0     0    47\n",
       "NEL     0    0   20    0    0    0    0     0     0     0   142\n",
       "NEM     0    0    0    0    1    0    0     0     0     0    16\n",
       "NEN     0    0    1    0   98    0    0     0     0     0   147\n",
       "NEO     0    0    0    0    0    0    0     0     0     0    31\n",
       "NEP     0    0    0    0    0    0   33     0     0     0   156\n",
       "NETE    0    0    0    0    0    0    3     0     0     0   157\n",
       "NETI    0    0    1    0    4    0    0     0     0     0    41\n",
       "NETO    0    0    0    0    1    0    3     0     0     0    37\n",
       "O       0    0   14    0    4    0   11     1     0     0  7075"
      ]
     },
     "execution_count": 8,
     "metadata": {},
     "output_type": "execute_result"
    }
   ],
   "source": [
    "m.evaluate()"
   ]
  },
  {
   "cell_type": "code",
   "execution_count": 9,
   "metadata": {},
   "outputs": [
    {
     "name": "stdout",
     "output_type": "stream",
     "text": [
      "इन्होंने/O\n",
      "भारतीय/O\n",
      "आर्य/O\n",
      "भाषा/O\n",
      "तथा/O\n",
      "द्रविड़/O\n",
      "भाषाओं/O\n",
      "का/O\n",
      "व्याकरण/O\n",
      "नामक/O\n",
      "अन्य/O\n",
      "महत्वपूर्ण/O\n",
      "ग्रन्थ/O\n",
      "भी/O\n",
      "लिखे/O\n",
      "हैं/O\n",
      "।/O\n"
     ]
    }
   ],
   "source": [
    "m.predict_tags(\"इन्होंने भारतीय आर्य भाषा तथा द्रविड़ भाषाओं का व्याकरण नामक अन्य महत्वपूर्ण ग्रन्थ भी लिखे हैं ।\")"
   ]
  },
  {
   "cell_type": "code",
   "execution_count": 10,
   "metadata": {},
   "outputs": [],
   "source": [
    "m.model.save(\"./first_hindi_model\")"
   ]
  },
  {
   "cell_type": "code",
   "execution_count": 11,
   "metadata": {
    "collapsed": true
   },
   "outputs": [],
   "source": [
    "from keras.models import load_model\n",
    "m.model = load_model(\"./first_hindi_model\")"
   ]
  },
  {
   "cell_type": "code",
   "execution_count": 12,
   "metadata": {},
   "outputs": [],
   "source": [
    "from get_word_vectors import get_word_vector\n",
    "s = get_word_vector(\"द्रविड़\")"
   ]
  }
 ],
 "metadata": {
  "anaconda-cloud": {},
  "kernelspec": {
   "display_name": "Python 2",
   "language": "python",
   "name": "python2"
  },
  "language_info": {
   "codemirror_mode": {
    "name": "ipython",
    "version": 2
   },
   "file_extension": ".py",
   "mimetype": "text/x-python",
   "name": "python",
   "nbconvert_exporter": "python",
   "pygments_lexer": "ipython2",
   "version": "2.7.13"
  }
 },
 "nbformat": 4,
 "nbformat_minor": 1
}
