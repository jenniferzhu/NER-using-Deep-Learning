{
 "cells": [
  {
   "cell_type": "code",
   "execution_count": 1,
   "metadata": {},
   "outputs": [
    {
     "name": "stderr",
     "output_type": "stream",
     "text": [
      "Using TensorFlow backend.\n"
     ]
    }
   ],
   "source": [
    "from process_data import DataHandler"
   ]
  },
  {
   "cell_type": "code",
   "execution_count": 2,
   "metadata": {
    "collapsed": true
   },
   "outputs": [],
   "source": [
    "s = DataHandler(\"../data/CoNLL-2003/eng.testa\")"
   ]
  },
  {
   "cell_type": "code",
   "execution_count": 3,
   "metadata": {},
   "outputs": [
    {
     "data": {
      "text/plain": [
       "(3466, 109, 200)"
      ]
     },
     "execution_count": 3,
     "metadata": {},
     "output_type": "execute_result"
    }
   ],
   "source": [
    "s.get_data()[0].shape"
   ]
  },
  {
   "cell_type": "code",
   "execution_count": 4,
   "metadata": {
    "collapsed": true
   },
   "outputs": [],
   "source": [
    "from NER_model import NER"
   ]
  },
  {
   "cell_type": "code",
   "execution_count": 12,
   "metadata": {
    "collapsed": true
   },
   "outputs": [],
   "source": [
    "m = NER(s)"
   ]
  },
  {
   "cell_type": "code",
   "execution_count": 13,
   "metadata": {
    "scrolled": true
   },
   "outputs": [
    {
     "name": "stdout",
     "output_type": "stream",
     "text": [
      "____________________________________________________________________________________________________\n",
      "Layer (type)                     Output Shape          Param #     Connected to                     \n",
      "====================================================================================================\n",
      "bidirectional_2 (Bidirectional)  (None, 109, 200)      240800      bidirectional_input_2[0][0]      \n",
      "____________________________________________________________________________________________________\n",
      "timedistributed_2 (TimeDistribut (None, 109, 5)        1005        bidirectional_2[0][0]            \n",
      "____________________________________________________________________________________________________\n",
      "dropout_2 (Dropout)              (None, 109, 5)        0           timedistributed_2[0][0]          \n",
      "====================================================================================================\n",
      "Total params: 241,805\n",
      "Trainable params: 241,805\n",
      "Non-trainable params: 0\n",
      "____________________________________________________________________________________________________\n",
      "None\n"
     ]
    }
   ],
   "source": [
    "m.make_and_compile(units=100, dropout=0.0, regul_alpha=0.0001)"
   ]
  },
  {
   "cell_type": "code",
   "execution_count": 14,
   "metadata": {},
   "outputs": [
    {
     "name": "stdout",
     "output_type": "stream",
     "text": [
      "Epoch 1/20\n",
      "2776/2776 [==============================] - 28s - loss: 0.4954 - acc: 0.9572    \n",
      "Epoch 2/20\n",
      "2776/2776 [==============================] - 25s - loss: 0.2155 - acc: 0.9774    \n",
      "Epoch 3/20\n",
      "2776/2776 [==============================] - 26s - loss: 0.1757 - acc: 0.9781    \n",
      "Epoch 4/20\n",
      "2776/2776 [==============================] - 24s - loss: 0.1516 - acc: 0.9798    \n",
      "Epoch 5/20\n",
      "2776/2776 [==============================] - 24s - loss: 0.1356 - acc: 0.9817    \n",
      "Epoch 6/20\n",
      "2776/2776 [==============================] - 24s - loss: 0.1245 - acc: 0.9828    \n",
      "Epoch 7/20\n",
      "2776/2776 [==============================] - 25s - loss: 0.1160 - acc: 0.9836    \n",
      "Epoch 8/20\n",
      "2776/2776 [==============================] - 25s - loss: 0.1092 - acc: 0.9841    \n",
      "Epoch 9/20\n",
      "2776/2776 [==============================] - 24s - loss: 0.1037 - acc: 0.9844    \n",
      "Epoch 10/20\n",
      "2776/2776 [==============================] - 24s - loss: 0.0987 - acc: 0.9847    \n",
      "Epoch 11/20\n",
      "2776/2776 [==============================] - 24s - loss: 0.0947 - acc: 0.9850    \n",
      "Epoch 12/20\n",
      "2776/2776 [==============================] - 24s - loss: 0.0909 - acc: 0.9854    \n",
      "Epoch 13/20\n",
      "2776/2776 [==============================] - 25s - loss: 0.0885 - acc: 0.9853    \n",
      "Epoch 14/20\n",
      "2776/2776 [==============================] - 25s - loss: 0.0854 - acc: 0.9858    \n",
      "Epoch 15/20\n",
      "2776/2776 [==============================] - 25s - loss: 0.0821 - acc: 0.9861    \n",
      "Epoch 16/20\n",
      "2776/2776 [==============================] - 24s - loss: 0.0800 - acc: 0.9864    \n",
      "Epoch 17/20\n",
      "2776/2776 [==============================] - 25s - loss: 0.0787 - acc: 0.9863    \n",
      "Epoch 18/20\n",
      "2776/2776 [==============================] - 25s - loss: 0.0758 - acc: 0.9867    \n",
      "Epoch 19/20\n",
      "2776/2776 [==============================] - 24s - loss: 0.0737 - acc: 0.9870    \n",
      "Epoch 20/20\n",
      "2776/2776 [==============================] - 24s - loss: 0.0722 - acc: 0.9870    \n"
     ]
    }
   ],
   "source": [
    "# m.train()\n",
    "m.train(epochs=20)"
   ]
  },
  {
   "cell_type": "code",
   "execution_count": 15,
   "metadata": {},
   "outputs": [
    {
     "name": "stdout",
     "output_type": "stream",
     "text": [
      "             precision    recall  f1-score   support\n",
      "\n",
      "        LOC       0.68      0.46      0.55       452\n",
      "       MISC       0.90      0.21      0.34       263\n",
      "          O       0.87      0.99      0.93      5788\n",
      "        ORG       0.81      0.22      0.35       396\n",
      "        PER       0.82      0.69      0.75       655\n",
      "\n",
      "avg / total       0.85      0.86      0.84      7554\n",
      "\n"
     ]
    },
    {
     "data": {
      "text/html": [
       "<div>\n",
       "<table border=\"1\" class=\"dataframe\">\n",
       "  <thead>\n",
       "    <tr style=\"text-align: right;\">\n",
       "      <th></th>\n",
       "      <th>LOC</th>\n",
       "      <th>MISC</th>\n",
       "      <th>O</th>\n",
       "      <th>ORG</th>\n",
       "      <th>PER</th>\n",
       "    </tr>\n",
       "  </thead>\n",
       "  <tbody>\n",
       "    <tr>\n",
       "      <th>LOC</th>\n",
       "      <td>207</td>\n",
       "      <td>3</td>\n",
       "      <td>213</td>\n",
       "      <td>9</td>\n",
       "      <td>20</td>\n",
       "    </tr>\n",
       "    <tr>\n",
       "      <th>MISC</th>\n",
       "      <td>16</td>\n",
       "      <td>55</td>\n",
       "      <td>184</td>\n",
       "      <td>3</td>\n",
       "      <td>5</td>\n",
       "    </tr>\n",
       "    <tr>\n",
       "      <th>O</th>\n",
       "      <td>41</td>\n",
       "      <td>2</td>\n",
       "      <td>5703</td>\n",
       "      <td>5</td>\n",
       "      <td>37</td>\n",
       "    </tr>\n",
       "    <tr>\n",
       "      <th>ORG</th>\n",
       "      <td>30</td>\n",
       "      <td>1</td>\n",
       "      <td>243</td>\n",
       "      <td>88</td>\n",
       "      <td>34</td>\n",
       "    </tr>\n",
       "    <tr>\n",
       "      <th>PER</th>\n",
       "      <td>10</td>\n",
       "      <td>0</td>\n",
       "      <td>192</td>\n",
       "      <td>4</td>\n",
       "      <td>449</td>\n",
       "    </tr>\n",
       "  </tbody>\n",
       "</table>\n",
       "</div>"
      ],
      "text/plain": [
       "      LOC  MISC     O  ORG  PER\n",
       "LOC   207     3   213    9   20\n",
       "MISC   16    55   184    3    5\n",
       "O      41     2  5703    5   37\n",
       "ORG    30     1   243   88   34\n",
       "PER    10     0   192    4  449"
      ]
     },
     "execution_count": 15,
     "metadata": {},
     "output_type": "execute_result"
    }
   ],
   "source": [
    "m.evaluate()"
   ]
  },
  {
   "cell_type": "code",
   "execution_count": 23,
   "metadata": {},
   "outputs": [
    {
     "name": "stdout",
     "output_type": "stream",
     "text": [
      "The/O\n",
      "strongest/O\n",
      "man/O\n",
      "on/O\n",
      "Earth/O\n",
      "is/O\n",
      "Obama/O\n",
      "in/O\n",
      "China/LOC\n",
      "and/O\n",
      "India/O\n"
     ]
    }
   ],
   "source": [
    "m.predict_tags(\"The strongest man on Earth is Obama in China and India\")\n",
    "# m.predict_tags(\"The strongest rain ever recorded in India shut down the financial hub of Mumbai, snapped communication lines, closed airports and forced thousands of people to sleep in their offices or walk home during the night, officials said today.\")"
   ]
  },
  {
   "cell_type": "code",
   "execution_count": 10,
   "metadata": {
    "collapsed": true
   },
   "outputs": [],
   "source": [
    "m.model.save(\"./first_model\")"
   ]
  },
  {
   "cell_type": "code",
   "execution_count": 11,
   "metadata": {
    "collapsed": true
   },
   "outputs": [],
   "source": [
    "# from keras.models import load_model\n",
    "# m.model = load_model(\"./first_model\")"
   ]
  }
 ],
 "metadata": {
  "anaconda-cloud": {},
  "kernelspec": {
   "display_name": "Python 2",
   "language": "python",
   "name": "python2"
  },
  "language_info": {
   "codemirror_mode": {
    "name": "ipython",
    "version": 2
   },
   "file_extension": ".py",
   "mimetype": "text/x-python",
   "name": "python",
   "nbconvert_exporter": "python",
   "pygments_lexer": "ipython2",
   "version": "2.7.13"
  }
 },
 "nbformat": 4,
 "nbformat_minor": 1
}
