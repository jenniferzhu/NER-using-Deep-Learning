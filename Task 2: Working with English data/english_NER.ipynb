{
 "cells": [
  {
   "cell_type": "code",
   "execution_count": 1,
   "metadata": {},
   "outputs": [
    {
     "name": "stderr",
     "output_type": "stream",
     "text": [
      "Using TensorFlow backend.\n"
     ]
    }
   ],
   "source": [
    "from process_data import DataHandler"
   ]
  },
  {
   "cell_type": "code",
   "execution_count": 19,
   "metadata": {},
   "outputs": [],
   "source": [
    "s = DataHandler(\"../data/CoNLL-2003/eng.testa\")"
   ]
  },
  {
   "cell_type": "code",
   "execution_count": 3,
   "metadata": {},
   "outputs": [
    {
     "data": {
      "text/plain": [
       "(3466, 109, 60)"
      ]
     },
     "execution_count": 3,
     "metadata": {},
     "output_type": "execute_result"
    }
   ],
   "source": [
    "s.get_data()[0].shape"
   ]
  },
  {
   "cell_type": "code",
   "execution_count": 4,
   "metadata": {},
   "outputs": [],
   "source": [
    "from NER_model import NER"
   ]
  },
  {
   "cell_type": "code",
   "execution_count": 5,
   "metadata": {},
   "outputs": [],
   "source": [
    "m = NER(s)"
   ]
  },
  {
   "cell_type": "code",
   "execution_count": 6,
   "metadata": {
    "scrolled": true
   },
   "outputs": [
    {
     "name": "stdout",
     "output_type": "stream",
     "text": [
      "____________________________________________________________________________________________________\n",
      "Layer (type)                     Output Shape          Param #     Connected to                     \n",
      "====================================================================================================\n",
      "bidirectional_1 (Bidirectional)  (None, 109, 300)      253200      bidirectional_input_1[0][0]      \n",
      "____________________________________________________________________________________________________\n",
      "timedistributed_1 (TimeDistribut (None, 109, 5)        1505        bidirectional_1[0][0]            \n",
      "____________________________________________________________________________________________________\n",
      "dropout_1 (Dropout)              (None, 109, 5)        0           timedistributed_1[0][0]          \n",
      "====================================================================================================\n",
      "Total params: 254,705\n",
      "Trainable params: 254,705\n",
      "Non-trainable params: 0\n",
      "____________________________________________________________________________________________________\n",
      "None\n"
     ]
    }
   ],
   "source": [
    "m.make_and_compile()"
   ]
  },
  {
   "cell_type": "code",
   "execution_count": null,
   "metadata": {},
   "outputs": [],
   "source": [
    "# m.train()\n",
    "m.train(epochs=10)"
   ]
  },
  {
   "cell_type": "code",
   "execution_count": 12,
   "metadata": {},
   "outputs": [
    {
     "name": "stdout",
     "output_type": "stream",
     "text": [
      "             precision    recall  f1-score   support\n",
      "\n",
      "        LOC       0.91      0.71      0.80       471\n",
      "       MISC       0.77      0.47      0.59       276\n",
      "          O       0.00      0.00      0.00         0\n",
      "        ORG       0.80      0.49      0.61       362\n",
      "        PER       0.92      0.81      0.86       635\n",
      "\n",
      "avg / total       0.87      0.66      0.75      1744\n",
      "\n"
     ]
    },
    {
     "data": {
      "text/html": [
       "<div>\n",
       "<table border=\"1\" class=\"dataframe\">\n",
       "  <thead>\n",
       "    <tr style=\"text-align: right;\">\n",
       "      <th></th>\n",
       "      <th>LOC</th>\n",
       "      <th>MISC</th>\n",
       "      <th>O</th>\n",
       "      <th>ORG</th>\n",
       "      <th>PER</th>\n",
       "    </tr>\n",
       "  </thead>\n",
       "  <tbody>\n",
       "    <tr>\n",
       "      <th>LOC</th>\n",
       "      <td>334</td>\n",
       "      <td>23</td>\n",
       "      <td>81</td>\n",
       "      <td>26</td>\n",
       "      <td>7</td>\n",
       "    </tr>\n",
       "    <tr>\n",
       "      <th>MISC</th>\n",
       "      <td>15</td>\n",
       "      <td>130</td>\n",
       "      <td>117</td>\n",
       "      <td>9</td>\n",
       "      <td>5</td>\n",
       "    </tr>\n",
       "    <tr>\n",
       "      <th>O</th>\n",
       "      <td>0</td>\n",
       "      <td>0</td>\n",
       "      <td>0</td>\n",
       "      <td>0</td>\n",
       "      <td>0</td>\n",
       "    </tr>\n",
       "    <tr>\n",
       "      <th>ORG</th>\n",
       "      <td>17</td>\n",
       "      <td>13</td>\n",
       "      <td>124</td>\n",
       "      <td>177</td>\n",
       "      <td>31</td>\n",
       "    </tr>\n",
       "    <tr>\n",
       "      <th>PER</th>\n",
       "      <td>0</td>\n",
       "      <td>2</td>\n",
       "      <td>113</td>\n",
       "      <td>8</td>\n",
       "      <td>512</td>\n",
       "    </tr>\n",
       "  </tbody>\n",
       "</table>\n",
       "</div>"
      ],
      "text/plain": [
       "      LOC  MISC    O  ORG  PER\n",
       "LOC   334    23   81   26    7\n",
       "MISC   15   130  117    9    5\n",
       "O       0     0    0    0    0\n",
       "ORG    17    13  124  177   31\n",
       "PER     0     2  113    8  512"
      ]
     },
     "execution_count": 12,
     "metadata": {},
     "output_type": "execute_result"
    }
   ],
   "source": [
    "m.evaluate()"
   ]
  },
  {
   "cell_type": "code",
   "execution_count": 17,
   "metadata": {},
   "outputs": [
    {
     "name": "stdout",
     "output_type": "stream",
     "text": [
      "(1, 109, 60)\n",
      "The/O\n",
      "strongest/O\n",
      "rain/O\n",
      "ever/O\n",
      "recorded/O\n",
      "in/O\n",
      "India/LOC\n",
      "shut/O\n",
      "down/O\n",
      "the/O\n",
      "financial/O\n",
      "hub/O\n",
      "of/O\n",
      "Mumbai,/LOC\n",
      "snapped/O\n",
      "communication/O\n",
      "lines,/O\n",
      "closed/O\n",
      "airports/O\n",
      "and/O\n",
      "forced/O\n",
      "thousands/O\n",
      "of/O\n",
      "people/O\n",
      "to/O\n",
      "sleep/O\n",
      "in/O\n",
      "their/O\n",
      "offices/O\n",
      "or/O\n",
      "walk/O\n",
      "home/O\n",
      "during/O\n",
      "the/O\n",
      "night,/O\n",
      "officials/O\n",
      "said/O\n",
      "today./O\n"
     ]
    }
   ],
   "source": [
    "# m.predict_tags(\"The strongest man on Earth is Mark Henry\")\n",
    "m.predict_tags(\"The strongest rain ever recorded in India shut down the financial hub of Mumbai, snapped communication lines, closed airports and forced thousands of people to sleep in their offices or walk home during the night, officials said today.\")"
   ]
  },
  {
   "cell_type": "code",
   "execution_count": null,
   "metadata": {},
   "outputs": [],
   "source": [
    "m.model.save(\"./first_model\")"
   ]
  },
  {
   "cell_type": "code",
   "execution_count": 8,
   "metadata": {},
   "outputs": [],
   "source": [
    "from keras.models import load_model\n",
    "m.model = load_model(\"./first_model\")"
   ]
  }
 ],
 "metadata": {
  "anaconda-cloud": {},
  "kernelspec": {
   "display_name": "Python 2",
   "language": "python",
   "name": "python2"
  },
  "language_info": {
   "codemirror_mode": {
    "name": "ipython",
    "version": 2
   },
   "file_extension": ".py",
   "mimetype": "text/x-python",
   "name": "python",
   "nbconvert_exporter": "python",
   "pygments_lexer": "ipython2",
   "version": "2.7.13"
  }
 },
 "nbformat": 4,
 "nbformat_minor": 1
}
