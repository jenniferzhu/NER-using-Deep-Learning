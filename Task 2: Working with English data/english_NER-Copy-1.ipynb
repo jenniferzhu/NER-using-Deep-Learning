{
 "cells": [
  {
   "cell_type": "code",
   "execution_count": 1,
   "metadata": {},
   "outputs": [
    {
     "name": "stderr",
     "output_type": "stream",
     "text": [
      "Using TensorFlow backend.\n"
     ]
    }
   ],
   "source": [
    "from process_data import DataHandler"
   ]
  },
  {
   "cell_type": "code",
   "execution_count": 2,
   "metadata": {
    "collapsed": true
   },
   "outputs": [],
   "source": [
    "s = DataHandler(\"../data/CoNLL-2003/eng.testa\")"
   ]
  },
  {
   "cell_type": "code",
   "execution_count": 3,
   "metadata": {},
   "outputs": [
    {
     "data": {
      "text/plain": [
       "(3466, 109, 200)"
      ]
     },
     "execution_count": 3,
     "metadata": {},
     "output_type": "execute_result"
    }
   ],
   "source": [
    "s.get_data()[0].shape"
   ]
  },
  {
   "cell_type": "code",
   "execution_count": 19,
   "metadata": {},
   "outputs": [
    {
     "data": {
      "text/plain": [
       "(3466, 109, 5)"
      ]
     },
     "execution_count": 19,
     "metadata": {},
     "output_type": "execute_result"
    }
   ],
   "source": [
    "s.get_data()[1].shape"
   ]
  },
  {
   "cell_type": "code",
   "execution_count": 4,
   "metadata": {
    "collapsed": true
   },
   "outputs": [],
   "source": [
    "from NER_model import NER"
   ]
  },
  {
   "cell_type": "code",
   "execution_count": 5,
   "metadata": {
    "collapsed": true
   },
   "outputs": [],
   "source": [
    "m = NER(s)"
   ]
  },
  {
   "cell_type": "code",
   "execution_count": null,
   "metadata": {
    "scrolled": true
   },
   "outputs": [
    {
     "name": "stdout",
     "output_type": "stream",
     "text": [
      "____________________________________________________________________________________________________\n",
      "Layer (type)                     Output Shape          Param #     Connected to                     \n",
      "====================================================================================================\n",
      "bidirectional_1 (Bidirectional)  (None, 109, 200)      240800      bidirectional_input_1[0][0]      \n",
      "____________________________________________________________________________________________________\n",
      "timedistributed_1 (TimeDistribut (None, 109, 5)        1005        bidirectional_1[0][0]            \n",
      "____________________________________________________________________________________________________\n",
      "dropout_1 (Dropout)              (None, 109, 5)        0           timedistributed_1[0][0]          \n",
      "====================================================================================================\n",
      "Total params: 241,805\n",
      "Trainable params: 241,805\n",
      "Non-trainable params: 0\n",
      "____________________________________________________________________________________________________\n",
      "None\n"
     ]
    }
   ],
   "source": [
    "m.make_and_compile(units=100, dropout=0.0, regul_alpha=0.0001)"
   ]
  },
  {
   "cell_type": "code",
   "execution_count": null,
   "metadata": {},
   "outputs": [
    {
     "name": "stdout",
     "output_type": "stream",
     "text": [
      "Epoch 1/5\n",
      "2792/2792 [==============================] - 27s - loss: 0.4849 - acc: 0.9583    \n",
      "Epoch 2/5\n",
      "2792/2792 [==============================] - 25s - loss: 0.2154 - acc: 0.9773    \n",
      "Epoch 3/5\n",
      "2792/2792 [==============================] - 25s - loss: 0.1768 - acc: 0.9776    \n",
      "Epoch 4/5\n",
      "2792/2792 [==============================] - 25s - loss: 0.1532 - acc: 0.9794    \n",
      "Epoch 5/5\n",
      "2750/2792 [============================>.] - ETA: 0s - loss: 0.1370 - acc: 0.9809"
     ]
    }
   ],
   "source": [
    "# m.train()\n",
    "m.train(epochs=5)"
   ]
  },
  {
   "cell_type": "code",
   "execution_count": 12,
   "metadata": {},
   "outputs": [
    {
     "name": "stdout",
     "output_type": "stream",
     "text": [
      "             precision    recall  f1-score   support\n",
      "\n",
      "        LOC       0.86      0.03      0.05       430\n",
      "       MISC       0.65      0.11      0.19       229\n",
      "          O       0.82      0.99      0.90      5580\n",
      "        ORG       0.85      0.09      0.16       440\n",
      "        PER       0.68      0.49      0.57       585\n",
      "\n",
      "avg / total       0.81      0.81      0.76      7264\n",
      "\n"
     ]
    },
    {
     "data": {
      "text/html": [
       "<div>\n",
       "<table border=\"1\" class=\"dataframe\">\n",
       "  <thead>\n",
       "    <tr style=\"text-align: right;\">\n",
       "      <th></th>\n",
       "      <th>LOC</th>\n",
       "      <th>MISC</th>\n",
       "      <th>O</th>\n",
       "      <th>ORG</th>\n",
       "      <th>PER</th>\n",
       "    </tr>\n",
       "  </thead>\n",
       "  <tbody>\n",
       "    <tr>\n",
       "      <th>LOC</th>\n",
       "      <td>12</td>\n",
       "      <td>6</td>\n",
       "      <td>359</td>\n",
       "      <td>4</td>\n",
       "      <td>49</td>\n",
       "    </tr>\n",
       "    <tr>\n",
       "      <th>MISC</th>\n",
       "      <td>0</td>\n",
       "      <td>26</td>\n",
       "      <td>197</td>\n",
       "      <td>3</td>\n",
       "      <td>3</td>\n",
       "    </tr>\n",
       "    <tr>\n",
       "      <th>O</th>\n",
       "      <td>2</td>\n",
       "      <td>5</td>\n",
       "      <td>5533</td>\n",
       "      <td>0</td>\n",
       "      <td>40</td>\n",
       "    </tr>\n",
       "    <tr>\n",
       "      <th>ORG</th>\n",
       "      <td>0</td>\n",
       "      <td>3</td>\n",
       "      <td>355</td>\n",
       "      <td>40</td>\n",
       "      <td>42</td>\n",
       "    </tr>\n",
       "    <tr>\n",
       "      <th>PER</th>\n",
       "      <td>0</td>\n",
       "      <td>0</td>\n",
       "      <td>296</td>\n",
       "      <td>0</td>\n",
       "      <td>289</td>\n",
       "    </tr>\n",
       "  </tbody>\n",
       "</table>\n",
       "</div>"
      ],
      "text/plain": [
       "      LOC  MISC     O  ORG  PER\n",
       "LOC    12     6   359    4   49\n",
       "MISC    0    26   197    3    3\n",
       "O       2     5  5533    0   40\n",
       "ORG     0     3   355   40   42\n",
       "PER     0     0   296    0  289"
      ]
     },
     "execution_count": 12,
     "metadata": {},
     "output_type": "execute_result"
    }
   ],
   "source": [
    "m.evaluate()"
   ]
  },
  {
   "cell_type": "code",
   "execution_count": 14,
   "metadata": {},
   "outputs": [
    {
     "name": "stdout",
     "output_type": "stream",
     "text": [
      "The/O\n",
      "strongest/O\n",
      "rain/O\n",
      "ever/O\n",
      "recorded/O\n",
      "in/O\n",
      "India/O\n",
      "shut/O\n",
      "down/O\n",
      "the/O\n",
      "financial/O\n",
      "hub/O\n",
      "of/O\n",
      "Mumbai,/O\n",
      "snapped/O\n",
      "communication/O\n",
      "lines,/O\n",
      "closed/O\n",
      "airports/O\n",
      "and/O\n",
      "forced/O\n",
      "thousands/O\n",
      "of/O\n",
      "people/O\n",
      "to/O\n",
      "sleep/O\n",
      "in/O\n",
      "their/O\n",
      "offices/O\n",
      "or/O\n",
      "walk/O\n",
      "home/O\n",
      "during/O\n",
      "the/O\n",
      "night,/O\n",
      "officials/O\n",
      "said/O\n",
      "today./O\n"
     ]
    }
   ],
   "source": [
    "# m.predict_tags(\"The strongest man on Earth is Mark Henry\")\n",
    "m.predict_tags(\"The strongest rain ever recorded in India shut down the financial hub of Mumbai, snapped communication lines, closed airports and forced thousands of people to sleep in their offices or walk home during the night, officials said today.\")"
   ]
  },
  {
   "cell_type": "code",
   "execution_count": 15,
   "metadata": {
    "collapsed": true
   },
   "outputs": [],
   "source": [
    "m.model.save(\"./first_model\")"
   ]
  },
  {
   "cell_type": "code",
   "execution_count": null,
   "metadata": {
    "collapsed": true
   },
   "outputs": [],
   "source": [
    "# from keras.models import load_model\n",
    "# m.model = load_model(\"./first_model\")"
   ]
  }
 ],
 "metadata": {
  "anaconda-cloud": {},
  "kernelspec": {
   "display_name": "Python 2",
   "language": "python",
   "name": "python2"
  },
  "language_info": {
   "codemirror_mode": {
    "name": "ipython",
    "version": 2
   },
   "file_extension": ".py",
   "mimetype": "text/x-python",
   "name": "python",
   "nbconvert_exporter": "python",
   "pygments_lexer": "ipython2",
   "version": "2.7.13"
  }
 },
 "nbformat": 4,
 "nbformat_minor": 1
}
